{
 "cells": [
  {
   "cell_type": "code",
   "execution_count": 214,
   "metadata": {},
   "outputs": [],
   "source": [
    "import pandas as pd\n",
    "import matplotlib.pyplot as plt\n",
    "import numpy as np\n",
    "from sklearn.linear_model import LinearRegression, BayesianRidge, LogisticRegression\n",
    "from scipy.stats import norm"
   ]
  },
  {
   "cell_type": "markdown",
   "metadata": {},
   "source": [
    "<h1> 1."
   ]
  },
  {
   "cell_type": "code",
   "execution_count": 82,
   "metadata": {},
   "outputs": [],
   "source": [
    "df = pd.read_csv(\"owid-covid-data.csv\")"
   ]
  },
  {
   "cell_type": "code",
   "execution_count": 83,
   "metadata": {},
   "outputs": [],
   "source": [
    "df = df[df['location']=='Russia']"
   ]
  },
  {
   "cell_type": "code",
   "execution_count": 84,
   "metadata": {},
   "outputs": [],
   "source": [
    "df.reset_index(drop=True, inplace=True)\n",
    "df['new_cases'] = df['new_cases'].apply(lambda x: 1 if x==0 else x)"
   ]
  },
  {
   "cell_type": "code",
   "execution_count": 85,
   "metadata": {},
   "outputs": [],
   "source": [
    "#train test разбиение\n",
    "train = df[df['location']=='Russia'][63:113].reset_index(drop=True)\n",
    "test = df[df['location']=='Russia'][113:].set_index(np.arange(50, 74))"
   ]
  },
  {
   "cell_type": "code",
   "execution_count": 86,
   "metadata": {},
   "outputs": [
    {
     "data": {
      "text/plain": [
       "<matplotlib.axes._subplots.AxesSubplot at 0x7fee125c6908>"
      ]
     },
     "execution_count": 86,
     "metadata": {},
     "output_type": "execute_result"
    },
    {
     "data": {
      "image/png": "[encoded data removed]",
      "text/plain": [
       "<Figure size 432x288 with 1 Axes>"
      ]
     },
     "metadata": {
      "needs_background": "light"
     },
     "output_type": "display_data"
    }
   ],
   "source": [
    "(train['total_cases']+train['new_cases']).plot(kind='line')"
   ]
  },
  {
   "cell_type": "markdown",
   "metadata": {},
   "source": [
    "<h1> 2."
   ]
  },
  {
   "cell_type": "code",
   "execution_count": 174,
   "metadata": {},
   "outputs": [
    {
     "data": {
      "text/plain": [
       "LinearRegression(copy_X=True, fit_intercept=True, n_jobs=None, normalize=False)"
      ]
     },
     "execution_count": 174,
     "metadata": {},
     "output_type": "execute_result"
    }
   ],
   "source": [
    "#фит линейной регрессии на ln(train)\n",
    "reg = LinearRegression()\n",
    "reg.fit(np.array((train['total_cases']).index).reshape(-1, 1), \n",
    "           np.log(train['total_cases']+train['new_cases']))"
   ]
  },
  {
   "cell_type": "code",
   "execution_count": 175,
   "metadata": {},
   "outputs": [
    {
     "data": {
      "text/plain": [
       "0.1434462348874815"
      ]
     },
     "execution_count": 175,
     "metadata": {},
     "output_type": "execute_result"
    }
   ],
   "source": [
    "#Найдем значение дисперсии из модели на train, там защито предположение о равенстве дисперсий\n",
    "standart_deviation = np.std(reg.predict(np.array((train['total_cases']).index).reshape(-1, 1)) - \\\n",
    "       np.log(train['total_cases']+train['new_cases']))\n",
    "\n",
    "standart_deviation**2"
   ]
  },
  {
   "cell_type": "code",
   "execution_count": 176,
   "metadata": {},
   "outputs": [],
   "source": [
    "#Теперь посчитаем апостериорное распределение\n",
    "#Для этого сначала посчитаем правдоподобие\n",
    "def make_normal_distribution(mean_, std_):\n",
    "    x = np.linspace(-100.0, 100.0, 1000000)\n",
    "    y = norm.pdf(x, mean_, std_**2)\n",
    "    return y\n",
    "\n",
    "def calc_likelyhood(preds, std_=standart_deviation):\n",
    "    temp2 = make_normal_distribution(preds[0], std_)\n",
    "    for i in range(1, len(preds)):\n",
    "        temp1 = make_normal_distribution(preds[i], std_)\n",
    "        temp2 = temp1 * temp2\n",
    "        temp2 = ((temp1.sum() + temp2.sum()) / 2.0) * (temp2.astype(float) / temp2.astype(float).sum())\n",
    "    return temp2"
   ]
  },
  {
   "cell_type": "code",
   "execution_count": 177,
   "metadata": {},
   "outputs": [
    {
     "data": {
      "text/plain": [
       "[<matplotlib.lines.Line2D at 0x7fed72557ef0>]"
      ]
     },
     "execution_count": 177,
     "metadata": {},
     "output_type": "execute_result"
    },
    {
     "data": {
      "image/png": "[encoded data removed]",
      "text/plain": [
       "<Figure size 432x288 with 1 Axes>"
      ]
     },
     "metadata": {
      "needs_background": "light"
     },
     "output_type": "display_data"
    }
   ],
   "source": [
    "#Так выглядит распределению правдоподобия\n",
    "plt.xlim(4.34,4.344)\n",
    "plt.plot(np.linspace(-100.0, 100.0, 1000000), calc_likelyhood(reg.predict(np.array((train['total_cases'][:41]).index).reshape(-1, 1))))"
   ]
  },
  {
   "cell_type": "markdown",
   "metadata": {},
   "source": [
    "<h2> Это оказалось лишним, на лекции же был вывод формулы :("
   ]
  },
  {
   "cell_type": "code",
   "execution_count": 180,
   "metadata": {},
   "outputs": [
    {
     "data": {
      "text/plain": [
       "array([ 1.71326093,  1.91389413,  2.11452734,  2.31516054,  2.51579375,\n",
       "        2.71642695,  2.91706016,  3.11769337,  3.31832657,  3.51895978,\n",
       "        3.71959298,  3.92022619,  4.12085939,  4.3214926 ,  4.5221258 ,\n",
       "        4.72275901,  4.92339221,  5.12402542,  5.32465862,  5.52529183,\n",
       "        5.72592504,  5.92655824,  6.12719145,  6.32782465,  6.52845786,\n",
       "        6.72909106,  6.92972427,  7.13035747,  7.33099068,  7.53162388,\n",
       "        7.73225709,  7.93289029,  8.1335235 ,  8.33415671,  8.53478991,\n",
       "        8.73542312,  8.93605632,  9.13668953,  9.33732273,  9.53795594,\n",
       "        9.73858914,  9.93922235, 10.13985555, 10.34048876, 10.54112196,\n",
       "       10.74175517, 10.94238838, 11.14302158, 11.34365479, 11.54428799])"
      ]
     },
     "execution_count": 180,
     "metadata": {},
     "output_type": "execute_result"
    }
   ],
   "source": [
    "predicted_train = reg.predict(np.array((train['total_cases']).index).reshape(-1, 1))\n",
    "predicted_train"
   ]
  },
  {
   "cell_type": "code",
   "execution_count": 181,
   "metadata": {},
   "outputs": [
    {
     "data": {
      "text/plain": [
       "array([ 1.38629436,  1.60943791,  1.60943791,  1.60943791,  2.77258872,\n",
       "        2.39789527,  2.39789527,  2.39789527,  2.39789527,  3.68887945,\n",
       "        3.55534806,  4.09434456,  4.29045944,  4.20469262,  4.81218436,\n",
       "        4.90527478,  5.19295685,  5.52545294,  5.72684775,  5.88332239,\n",
       "        6.34563636,  6.08449941,  6.31354805,  6.71052311,  6.92951677,\n",
       "        7.11639414,  7.30787278,  7.4977617 ,  7.66762609,  7.95085486,\n",
       "        8.07620453,  8.37077917,  8.4658999 ,  8.57791193,  8.70731756,\n",
       "        8.89521858,  9.0654302 ,  9.19492212,  9.35789794,  9.52537007,\n",
       "        9.63240035,  9.7956796 ,  9.94683436, 10.08062905, 10.23559313,\n",
       "       10.35411721, 10.49343854, 10.63532646, 10.79779849, 10.84717942])"
      ]
     },
     "execution_count": 181,
     "metadata": {},
     "output_type": "execute_result"
    }
   ],
   "source": [
    "actual_train_log = np.log(np.array((train['total_cases']+train['new_cases'])))\n",
    "actual_train_log"
   ]
  },
  {
   "cell_type": "code",
   "execution_count": 182,
   "metadata": {},
   "outputs": [],
   "source": [
    "Theta_new = 1 / (standart_deviation + 1/(standart_deviation**2)*predicted_train.dot(predicted_train))\n",
    "mu_new = 1 / Theta_new * \\\n",
    "(standart_deviation * 0 + 1 / standart_deviation**2 * predicted_train.dot(actual_train_log))"
   ]
  },
  {
   "cell_type": "code",
   "execution_count": 183,
   "metadata": {},
   "outputs": [
    {
     "data": {
      "text/plain": [
       "18238.389794504124"
      ]
     },
     "execution_count": 183,
     "metadata": {},
     "output_type": "execute_result"
    }
   ],
   "source": [
    "1 / Theta_new"
   ]
  },
  {
   "cell_type": "code",
   "execution_count": 184,
   "metadata": {},
   "outputs": [
    {
     "data": {
      "text/plain": [
       "5.482940167784634e-05"
      ]
     },
     "execution_count": 184,
     "metadata": {},
     "output_type": "execute_result"
    }
   ],
   "source": [
    "Theta_new"
   ]
  },
  {
   "cell_type": "code",
   "execution_count": 185,
   "metadata": {},
   "outputs": [
    {
     "data": {
      "text/plain": [
       "332631954.63441205"
      ]
     },
     "execution_count": 185,
     "metadata": {},
     "output_type": "execute_result"
    }
   ],
   "source": [
    "mu_new"
   ]
  },
  {
   "cell_type": "code",
   "execution_count": 186,
   "metadata": {},
   "outputs": [
    {
     "data": {
      "text/plain": [
       "<matplotlib.axes._subplots.AxesSubplot at 0x7fed722d1080>"
      ]
     },
     "execution_count": 186,
     "metadata": {},
     "output_type": "execute_result"
    },
    {
     "data": {
      "image/png": "[encoded data removed]",
      "text/plain": [
       "<Figure size 432x288 with 1 Axes>"
      ]
     },
     "metadata": {
      "needs_background": "light"
     },
     "output_type": "display_data"
    }
   ],
   "source": [
    "#Реальная логарифмическая прямая на test\n",
    "pd.Series(np.log(test['total_cases']+test['new_cases'])).plot(kind='line')"
   ]
  },
  {
   "cell_type": "code",
   "execution_count": 187,
   "metadata": {},
   "outputs": [
    {
     "data": {
      "text/plain": [
       "<matplotlib.axes._subplots.AxesSubplot at 0x7fed71f61cc0>"
      ]
     },
     "execution_count": 187,
     "metadata": {},
     "output_type": "execute_result"
    },
    {
     "data": {
      "image/png": "[encoded data removed]",
      "text/plain": [
       "<Figure size 432x288 with 1 Axes>"
      ]
     },
     "metadata": {
      "needs_background": "light"
     },
     "output_type": "display_data"
    }
   ],
   "source": [
    "#Реальные данные на тесте\n",
    "(test['total_cases']+test['new_cases']).plot(kind='line')"
   ]
  },
  {
   "cell_type": "code",
   "execution_count": 188,
   "metadata": {},
   "outputs": [
    {
     "data": {
      "text/plain": [
       "<matplotlib.axes._subplots.AxesSubplot at 0x7fed72977c88>"
      ]
     },
     "execution_count": 188,
     "metadata": {},
     "output_type": "execute_result"
    },
    {
     "data": {
      "image/png": "[encoded data removed]",
      "text/plain": [
       "<Figure size 432x288 with 1 Axes>"
      ]
     },
     "metadata": {
      "needs_background": "light"
     },
     "output_type": "display_data"
    }
   ],
   "source": [
    "#Экспонециированный предикт на тесте\n",
    "pd.Series(np.exp(reg.predict(np.array((test['total_cases']).index).reshape(-1, 1)))).plot(kind='line')"
   ]
  },
  {
   "cell_type": "markdown",
   "metadata": {},
   "source": [
    "<h1> 3."
   ]
  },
  {
   "cell_type": "markdown",
   "metadata": {},
   "source": [
    "<h5> Подбирать параметры сигмоидной функции с помощью линейной можно, воспользовавшись logistic function:"
   ]
  },
  {
   "cell_type": "code",
   "execution_count": 269,
   "metadata": {},
   "outputs": [],
   "source": [
    "def sigmoid(x):\n",
    "    return ((train['total_cases']+train['new_cases']).mean() - 1000)/(1 + np.exp(-x))\n",
    "\n",
    "#Пробую \"сместить\" вверх сигмоидное преобразование на среднее "
   ]
  },
  {
   "cell_type": "code",
   "execution_count": 264,
   "metadata": {},
   "outputs": [],
   "source": [
    "def inverse_sigmoid(x):\n",
    "    return -np.log((train['total_cases']+train['new_cases']).mean() - 1000 / x - 1)"
   ]
  },
  {
   "cell_type": "code",
   "execution_count": 265,
   "metadata": {},
   "outputs": [
    {
     "data": {
      "text/plain": [
       "8090.84"
      ]
     },
     "execution_count": 265,
     "metadata": {},
     "output_type": "execute_result"
    }
   ],
   "source": [
    "(train['total_cases']+train['new_cases']).mean()"
   ]
  },
  {
   "cell_type": "code",
   "execution_count": 266,
   "metadata": {},
   "outputs": [
    {
     "data": {
      "text/plain": [
       "LinearRegression(copy_X=True, fit_intercept=True, n_jobs=None, normalize=False)"
      ]
     },
     "execution_count": 266,
     "metadata": {},
     "output_type": "execute_result"
    }
   ],
   "source": [
    "#фит линейной регрессии на sigmoid(train)\n",
    "reg = LinearRegression()\n",
    "reg.fit(np.array((train['total_cases']).index).reshape(-1, 1), \n",
    "           sigmoid(train['total_cases']+train['new_cases']))"
   ]
  }
 ],
 "metadata": {
  "kernelspec": {
   "display_name": "Python 3",
   "language": "python",
   "name": "python3"
  },
  "language_info": {
   "codemirror_mode": {
    "name": "ipython",
    "version": 3
   },
   "file_extension": ".py",
   "mimetype": "text/x-python",
   "name": "python",
   "nbconvert_exporter": "python",
   "pygments_lexer": "ipython3",
   "version": "3.6.8"
  }
 },
 "nbformat": 4,
 "nbformat_minor": 2
}
